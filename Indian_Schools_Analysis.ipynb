{
  "nbformat": 4,
  "nbformat_minor": 0,
  "metadata": {
    "colab": {
      "provenance": [],
      "mount_file_id": "1Z4sgT9Q1fTC97DMfU1X4tCCcSVMFktEL",
      "authorship_tag": "ABX9TyNAh0zNeu3WByHws0LGDaG9",
      "include_colab_link": true
    },
    "kernelspec": {
      "name": "python3",
      "display_name": "Python 3"
    },
    "language_info": {
      "name": "python"
    }
  },
  "cells": [
    {
      "cell_type": "markdown",
      "metadata": {
        "id": "view-in-github",
        "colab_type": "text"
      },
      "source": [
        "<a href=\"https://colab.research.google.com/github/thisisZAQ/Indian-Schools-Analysis/blob/main/Indian_Schools_Analysis.ipynb\" target=\"_parent\"><img src=\"https://colab.research.google.com/assets/colab-badge.svg\" alt=\"Open In Colab\"/></a>"
      ]
    },
    {
      "cell_type": "code",
      "execution_count": null,
      "metadata": {
        "id": "CuICK-mKzhRD"
      },
      "outputs": [],
      "source": [
        "import pandas as pd\n",
        "import matplotlib.pyplot as plt\n",
        "import seaborn"
      ]
    },
    {
      "cell_type": "code",
      "source": [
        "\n",
        "# Load the datasets\n",
        "dropout_ratio_path = '/content/drive/MyDrive/Indian School Analysis/Drprtio.csv'\n",
        "enrollment_ratio_path = '/content/drive/MyDrive/Indian School Analysis/gross-enrollment-ratio-2013-2016.csv'\n",
        "\n",
        "# Read the files\n",
        "dropout_ratio = pd.read_csv(dropout_ratio_path)\n",
        "enrollment_ratio = pd.read_csv(enrollment_ratio_path)\n",
        "\n",
        "# Display the first few rows of both datasets\n",
        "dropout_ratio.head(), enrollment_ratio.head()\n",
        "\n",
        "dropout_ratio.info()"
      ],
      "metadata": {
        "colab": {
          "base_uri": "https://localhost:8080/"
        },
        "id": "f8TQUiqt0qF-",
        "outputId": "977a0fbc-e0cd-4039-e197-ee9011176122"
      },
      "execution_count": 6,
      "outputs": [
        {
          "output_type": "stream",
          "name": "stdout",
          "text": [
            "<class 'pandas.core.frame.DataFrame'>\n",
            "RangeIndex: 110 entries, 0 to 109\n",
            "Data columns (total 14 columns):\n",
            " #   Column               Non-Null Count  Dtype \n",
            "---  ------               --------------  ----- \n",
            " 0   State_UT             110 non-null    object\n",
            " 1   year                 110 non-null    object\n",
            " 2   Primary_Boys         110 non-null    object\n",
            " 3   Primary_Girls        110 non-null    object\n",
            " 4   Primary_Total        110 non-null    object\n",
            " 5   Upper Primary_Boys   110 non-null    object\n",
            " 6   Upper Primary_Girls  110 non-null    object\n",
            " 7   Upper Primary_Total  110 non-null    object\n",
            " 8   Secondary _Boys      110 non-null    object\n",
            " 9   Secondary _Girls     110 non-null    object\n",
            " 10  Secondary _Total     110 non-null    object\n",
            " 11  HrSecondary_Boys     110 non-null    object\n",
            " 12  HrSecondary_Girls    110 non-null    object\n",
            " 13  HrSecondary_Total    110 non-null    object\n",
            "dtypes: object(14)\n",
            "memory usage: 12.2+ KB\n"
          ]
        }
      ]
    },
    {
      "cell_type": "code",
      "source": [
        "# Clean and standardize column names for both datasets\n",
        "\n",
        "# Clean the dropout_ratio dataset\n",
        "dropout_ratio.columns = dropout_ratio.columns.str.strip().str.replace(' ', '_').str.replace('__', '_')\n",
        "dropout_ratio.columns = dropout_ratio.columns.str.replace('Secondary_', 'Secondary')\n",
        "dropout_ratio.columns = dropout_ratio.columns.str.replace('HrSecondary', 'Higher_Secondary')\n",
        "\n",
        "# Clean the enrollment_ratio dataset\n",
        "enrollment_ratio.columns = enrollment_ratio.columns.str.strip().str.replace(' ', '_')\n",
        "\n",
        "\n",
        "# Check for any missing values and data types in both datasets\n",
        "dropout_info = dropout_ratio.info(), dropout_ratio.isnull().sum()\n",
        "enrollment_info = enrollment_ratio.info(), enrollment_ratio.isnull().sum()\n",
        "\n",
        "dropout_info, enrollment_info\n"
      ],
      "metadata": {
        "colab": {
          "base_uri": "https://localhost:8080/"
        },
        "id": "hQlMZY3Z04hN",
        "outputId": "7e1e792d-080c-4818-ebdf-3d2918dfab04"
      },
      "execution_count": 28,
      "outputs": [
        {
          "output_type": "stream",
          "name": "stdout",
          "text": [
            "<class 'pandas.core.frame.DataFrame'>\n",
            "RangeIndex: 110 entries, 0 to 109\n",
            "Data columns (total 14 columns):\n",
            " #   Column                 Non-Null Count  Dtype \n",
            "---  ------                 --------------  ----- \n",
            " 0   State_UT               110 non-null    object\n",
            " 1   year                   110 non-null    object\n",
            " 2   Primary_Boys           95 non-null     object\n",
            " 3   Primary_Girls          95 non-null     object\n",
            " 4   Primary_Total          93 non-null     object\n",
            " 5   Upper_Primary_Boys     94 non-null     object\n",
            " 6   Upper_Primary_Girls    102 non-null    object\n",
            " 7   Upper_Primary_Total    101 non-null    object\n",
            " 8   SecondaryBoys          106 non-null    object\n",
            " 9   SecondaryGirls         106 non-null    object\n",
            " 10  SecondaryTotal         106 non-null    object\n",
            " 11  Higher_SecondaryBoys   82 non-null     object\n",
            " 12  Higher_SecondaryGirls  76 non-null     object\n",
            " 13  Higher_SecondaryTotal  79 non-null     object\n",
            "dtypes: object(14)\n",
            "memory usage: 12.2+ KB\n",
            "<class 'pandas.core.frame.DataFrame'>\n",
            "RangeIndex: 110 entries, 0 to 109\n",
            "Data columns (total 14 columns):\n",
            " #   Column                  Non-Null Count  Dtype  \n",
            "---  ------                  --------------  -----  \n",
            " 0   State_UT                110 non-null    object \n",
            " 1   Year                    110 non-null    object \n",
            " 2   Primary_Boys            110 non-null    float64\n",
            " 3   Primary_Girls           110 non-null    float64\n",
            " 4   Primary_Total           110 non-null    float64\n",
            " 5   Upper_Primary_Boys      110 non-null    float64\n",
            " 6   Upper_Primary_Girls     110 non-null    float64\n",
            " 7   Upper_Primary_Total     110 non-null    float64\n",
            " 8   Secondary_Boys          110 non-null    float64\n",
            " 9   Secondary_Girls         110 non-null    float64\n",
            " 10  Secondary_Total         110 non-null    float64\n",
            " 11  Higher_Secondary_Boys   110 non-null    object \n",
            " 12  Higher_Secondary_Girls  110 non-null    object \n",
            " 13  Higher_Secondary_Total  110 non-null    object \n",
            "dtypes: float64(9), object(5)\n",
            "memory usage: 12.2+ KB\n"
          ]
        },
        {
          "output_type": "execute_result",
          "data": {
            "text/plain": [
              "((None,\n",
              "  State_UT                  0\n",
              "  year                      0\n",
              "  Primary_Boys             15\n",
              "  Primary_Girls            15\n",
              "  Primary_Total            17\n",
              "  Upper_Primary_Boys       16\n",
              "  Upper_Primary_Girls       8\n",
              "  Upper_Primary_Total       9\n",
              "  SecondaryBoys             4\n",
              "  SecondaryGirls            4\n",
              "  SecondaryTotal            4\n",
              "  Higher_SecondaryBoys     28\n",
              "  Higher_SecondaryGirls    34\n",
              "  Higher_SecondaryTotal    31\n",
              "  dtype: int64),\n",
              " (None,\n",
              "  State_UT                  0\n",
              "  Year                      0\n",
              "  Primary_Boys              0\n",
              "  Primary_Girls             0\n",
              "  Primary_Total             0\n",
              "  Upper_Primary_Boys        0\n",
              "  Upper_Primary_Girls       0\n",
              "  Upper_Primary_Total       0\n",
              "  Secondary_Boys            0\n",
              "  Secondary_Girls           0\n",
              "  Secondary_Total           0\n",
              "  Higher_Secondary_Boys     0\n",
              "  Higher_Secondary_Girls    0\n",
              "  Higher_Secondary_Total    0\n",
              "  dtype: int64))"
            ]
          },
          "metadata": {},
          "execution_count": 28
        }
      ]
    },
    {
      "cell_type": "code",
      "source": [
        "dropout_ratio['State_UT'] = dropout_ratio['State_UT'].str.extract(r'([A-Za-z\\s&]+)')\n",
        "dropout_ratio['year'] = dropout_ratio['year'].str.extract(r'(\\d{4}-\\d{2})')\n",
        "dropout_ratio['State_UT']= dropout_ratio['State_UT'].apply(str)\n",
        "\n",
        "# Replace 'NR' or any non-numeric values with NaN\n",
        "dropout_ratio.replace('NR', pd.NA, inplace=True)\n"
      ],
      "metadata": {
        "id": "4H2Bst0u2T3S"
      },
      "execution_count": 25,
      "outputs": []
    },
    {
      "cell_type": "code",
      "source": [],
      "metadata": {
        "id": "ygxE8_K54-LM"
      },
      "execution_count": null,
      "outputs": []
    },
    {
      "cell_type": "code",
      "source": [
        "dropout_ratio.info()"
      ],
      "metadata": {
        "colab": {
          "base_uri": "https://localhost:8080/"
        },
        "id": "QGneUKJ93H-8",
        "outputId": "c7046267-0afc-4338-bd59-9c0ea96b4b1b"
      },
      "execution_count": 26,
      "outputs": [
        {
          "output_type": "stream",
          "name": "stdout",
          "text": [
            "<class 'pandas.core.frame.DataFrame'>\n",
            "RangeIndex: 110 entries, 0 to 109\n",
            "Data columns (total 14 columns):\n",
            " #   Column               Non-Null Count  Dtype \n",
            "---  ------               --------------  ----- \n",
            " 0   State_UT             110 non-null    object\n",
            " 1   year                 110 non-null    object\n",
            " 2   Primary_Boys         95 non-null     object\n",
            " 3   Primary_Girls        95 non-null     object\n",
            " 4   Primary_Total        93 non-null     object\n",
            " 5   Upper Primary_Boys   94 non-null     object\n",
            " 6   Upper Primary_Girls  102 non-null    object\n",
            " 7   Upper Primary_Total  101 non-null    object\n",
            " 8   Secondary _Boys      106 non-null    object\n",
            " 9   Secondary _Girls     106 non-null    object\n",
            " 10  Secondary _Total     106 non-null    object\n",
            " 11  HrSecondary_Boys     82 non-null     object\n",
            " 12  HrSecondary_Girls    76 non-null     object\n",
            " 13  HrSecondary_Total    79 non-null     object\n",
            "dtypes: object(14)\n",
            "memory usage: 12.2+ KB\n"
          ]
        }
      ]
    },
    {
      "cell_type": "code",
      "source": [
        "# Convert the numeric columns in the dropout dataset\n",
        "dropout_numeric_cols = [\n",
        "    'Primary_Boys', 'Primary_Girls', 'Primary_Total',\n",
        "    'Upper_Primary_Boys', 'Upper_Primary_Girls', 'Upper_Primary_Total',\n",
        "    'SecondaryBoys', 'SecondaryGirls', 'SecondaryTotal',\n",
        "    'Higher_SecondaryBoys', 'Higher_SecondaryGirls', 'Higher_SecondaryTotal'\n",
        "]\n",
        "\n",
        "# Attempt to convert these columns to numeric, forcing errors into NaN\n",
        "dropout_ratio[dropout_numeric_cols] = dropout_ratio[dropout_numeric_cols].apply(pd.to_numeric, errors='coerce')\n",
        "\n",
        "# Check for non-numeric values in the enrollment dataset's higher secondary columns\n",
        "enrollment_higher_secondary_cols = ['Higher_Secondary_Boys', 'Higher_Secondary_Girls', 'Higher_Secondary_Total']\n",
        "enrollment_invalid_values = enrollment_ratio[enrollment_higher_secondary_cols].apply(pd.to_numeric, errors='coerce').isna()\n",
        "\n",
        "# Summary of invalid entries in higher secondary columns of enrollment dataset\n",
        "invalid_entries_summary = enrollment_invalid_values.sum()\n",
        "\n",
        "dropout_ratio.head(), invalid_entries_summary\n"
      ],
      "metadata": {
        "colab": {
          "base_uri": "https://localhost:8080/"
        },
        "id": "trRY4HFB5aQ_",
        "outputId": "c6679cd5-ffc1-4d3a-c316-3e21d4c256e7"
      },
      "execution_count": 29,
      "outputs": [
        {
          "output_type": "execute_result",
          "data": {
            "text/plain": [
              "(         State_UT     year  Primary_Boys  Primary_Girls  Primary_Total  \\\n",
              " 0   A & N Islands  2012-13          0.83           0.51           0.68   \n",
              " 1   A & N Islands  2013-14          1.35           1.06           1.21   \n",
              " 2   A & N Islands  2014-15          0.47           0.55           0.51   \n",
              " 3  Andhra Pradesh  2012-13          3.30           3.05           3.18   \n",
              " 4  Andhra Pradesh  2013-14          4.31           4.39           4.35   \n",
              " \n",
              "    Upper_Primary_Boys  Upper_Primary_Girls  Upper_Primary_Total  \\\n",
              " 0                 NaN                 1.09                 1.23   \n",
              " 1                 NaN                 1.54                 0.51   \n",
              " 2                1.44                 1.95                 1.69   \n",
              " 3                3.21                 3.51                 3.36   \n",
              " 4                3.46                 4.12                 3.78   \n",
              " \n",
              "    SecondaryBoys  SecondaryGirls  SecondaryTotal  Higher_SecondaryBoys  \\\n",
              " 0           5.57            5.55            5.56                 17.66   \n",
              " 1           8.36            5.98            7.20                 18.94   \n",
              " 2          11.47            8.16            9.87                 21.05   \n",
              " 3          12.21           13.25           12.72                  2.66   \n",
              " 4          11.95           13.37           12.65                 12.65   \n",
              " \n",
              "    Higher_SecondaryGirls  Higher_SecondaryTotal  \n",
              " 0                  10.15                  14.14  \n",
              " 1                  12.20                  15.87  \n",
              " 2                  12.21                  16.93  \n",
              " 3                    NaN                   0.35  \n",
              " 4                  10.85                  11.79  ,\n",
              " Higher_Secondary_Boys     2\n",
              " Higher_Secondary_Girls    2\n",
              " Higher_Secondary_Total    2\n",
              " dtype: int64)"
            ]
          },
          "metadata": {},
          "execution_count": 29
        }
      ]
    },
    {
      "cell_type": "code",
      "source": [
        "dropout_ratio.info()"
      ],
      "metadata": {
        "colab": {
          "base_uri": "https://localhost:8080/"
        },
        "id": "f1LkiijT5vmc",
        "outputId": "54cbe278-092a-41e0-ea25-33e72677f958"
      },
      "execution_count": 31,
      "outputs": [
        {
          "output_type": "stream",
          "name": "stdout",
          "text": [
            "<class 'pandas.core.frame.DataFrame'>\n",
            "RangeIndex: 110 entries, 0 to 109\n",
            "Data columns (total 14 columns):\n",
            " #   Column                 Non-Null Count  Dtype  \n",
            "---  ------                 --------------  -----  \n",
            " 0   State_UT               110 non-null    object \n",
            " 1   year                   110 non-null    object \n",
            " 2   Primary_Boys           95 non-null     float64\n",
            " 3   Primary_Girls          95 non-null     float64\n",
            " 4   Primary_Total          93 non-null     float64\n",
            " 5   Upper_Primary_Boys     93 non-null     float64\n",
            " 6   Upper_Primary_Girls    102 non-null    float64\n",
            " 7   Upper_Primary_Total    101 non-null    float64\n",
            " 8   SecondaryBoys          106 non-null    float64\n",
            " 9   SecondaryGirls         106 non-null    float64\n",
            " 10  SecondaryTotal         106 non-null    float64\n",
            " 11  Higher_SecondaryBoys   82 non-null     float64\n",
            " 12  Higher_SecondaryGirls  76 non-null     float64\n",
            " 13  Higher_SecondaryTotal  79 non-null     float64\n",
            "dtypes: float64(12), object(2)\n",
            "memory usage: 12.2+ KB\n"
          ]
        }
      ]
    }
  ]
}